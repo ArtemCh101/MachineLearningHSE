{
 "cells": [
  {
   "cell_type": "markdown",
   "id": "cd2c4262",
   "metadata": {},
   "source": [
    "# Домашнее задание №1 Чебыкина Артёма"
   ]
  },
  {
   "cell_type": "markdown",
   "id": "5a5e03f5",
   "metadata": {},
   "source": [
    "### №1"
   ]
  },
  {
   "cell_type": "markdown",
   "id": "a29c3983",
   "metadata": {},
   "source": [
    "Создадим функцию для подсчета всей статистики, достаточно очевидным образом"
   ]
  },
  {
   "cell_type": "code",
   "execution_count": 1,
   "id": "97e445bd",
   "metadata": {},
   "outputs": [],
   "source": [
    "def array_stat(array):\n",
    "    n = len(array)\n",
    "    if n == 0:\n",
    "        empty_dict = dict()\n",
    "        return empty_dict\n",
    "    mean = 0\n",
    "    median = 0\n",
    "    mode = 0\n",
    "    array.sort()\n",
    "    if n % 2 == 1:\n",
    "        median = array[n//2]\n",
    "    else:\n",
    "        median = (array[n//2] + array[n//2-1])/2\n",
    "    current = array[0]\n",
    "    current_mode = array[0]\n",
    "    cnt_max = 0\n",
    "    cnt = 0\n",
    "    for x in array:\n",
    "        mean += x\n",
    "        if x == current:\n",
    "            cnt += 1\n",
    "        else:\n",
    "            if cnt > cnt_max:\n",
    "                cnt_max = cnt\n",
    "                current_mode = current\n",
    "            cnt = 1\n",
    "            current = x\n",
    "    if cnt > cnt_max:\n",
    "        cnt_max = cnt\n",
    "        current_mode = current\n",
    "    mean = round(mean / n, 4)\n",
    "    mode = current_mode\n",
    "    answer_dict = dict()\n",
    "    answer_dict['mean'] = mean\n",
    "    answer_dict['median'] = median\n",
    "    answer_dict['mode'] = mode\n",
    "    return answer_dict"
   ]
  },
  {
   "cell_type": "markdown",
   "id": "ef945155",
   "metadata": {},
   "source": [
    "Несколько тестовых запросов"
   ]
  },
  {
   "cell_type": "code",
   "execution_count": 2,
   "id": "f3f4c6c6",
   "metadata": {},
   "outputs": [
    {
     "name": "stdout",
     "output_type": "stream",
     "text": [
      "{'mean': 3.4286, 'median': 3, 'mode': 1}\n",
      "{'mean': 2.5, 'median': 2.5, 'mode': 1}\n",
      "{'mean': 2.5, 'median': 2.5, 'mode': 1}\n",
      "{}\n",
      "{'mean': 2500001.0, 'median': 1.5, 'mode': 1}\n",
      "{'mean': 1.8333, 'median': 2.0, 'mode': 2}\n"
     ]
    }
   ],
   "source": [
    "test_arrays = [[0, 1, 1, 10, 5, 4, 3],[1,2,3,4],[4,3,2,1],[],[1,2,10000000,1],[1,2,2,2,2,2]]\n",
    "for test_array in test_arrays:\n",
    "    print(array_stat(test_array))"
   ]
  },
  {
   "cell_type": "markdown",
   "id": "b65416bb",
   "metadata": {},
   "source": [
    "### №2"
   ]
  },
  {
   "cell_type": "markdown",
   "id": "91e4783a",
   "metadata": {},
   "source": [
    "Создадим функцию парсер. В ней указываем число аттрибутов, но в принципе, его можно менять. Внутри делаем красивое разбиение: списки и инты где надо"
   ]
  },
  {
   "cell_type": "code",
   "execution_count": 3,
   "id": "9485e11e",
   "metadata": {},
   "outputs": [],
   "source": [
    "def parse_csv(file_content):\n",
    "    number_of_attributes = 7\n",
    "    answer_list = list()\n",
    "    attributes_names_list = ['attack_type', 'id', 'amount_of_legs',\n",
    "                             'localized_name', 'name', 'primary_attr', 'list_of_roles']\n",
    "    current_attributes_list = [None]*number_of_attributes\n",
    "    lines_of_text = file_content.splitlines()\n",
    "    for i in range (1,len(lines_of_text)):\n",
    "        line_with_splitted_roles = lines_of_text[i].split('[')\n",
    "        current_line = line_with_splitted_roles[0].split(',')\n",
    "        # making role list into an actual list\n",
    "        line_with_splitted_roles[1] = line_with_splitted_roles[1].split(']')[0]\n",
    "        line_with_splitted_roles[1] = line_with_splitted_roles[1][1:-1]\n",
    "        roles = line_with_splitted_roles[1].split('\\', \\'')\n",
    "        for j in range(1,number_of_attributes):\n",
    "            if j == 2 or j == 3:\n",
    "                current_attributes_list[j - 1] = int(current_line[j])\n",
    "            else:\n",
    "                current_attributes_list[j-1] = current_line[j]\n",
    "        current_attributes_list[number_of_attributes-1] = roles\n",
    "        new_character_dict = (\n",
    "            dict(zip(attributes_names_list,current_attributes_list)))\n",
    "        answer_list.append(new_character_dict)\n",
    "    return answer_list"
   ]
  },
  {
   "cell_type": "code",
   "execution_count": 4,
   "id": "b53c92ca",
   "metadata": {},
   "outputs": [
    {
     "name": "stdout",
     "output_type": "stream",
     "text": [
      "{'attack_type': 'Melee', 'id': 1, 'amount_of_legs': 2, 'localized_name': 'Anti-Mage', 'name': 'npc_dota_hero_antimage', 'primary_attr': 'agi', 'list_of_roles': ['Carry', 'Escape', 'Nuker']}\n",
      "{'attack_type': 'Melee', 'id': 2, 'amount_of_legs': 2, 'localized_name': 'Axe', 'name': 'npc_dota_hero_axe', 'primary_attr': 'str', 'list_of_roles': ['Initiator', 'Durable', 'Disabler', 'Jungler']}\n",
      "{'attack_type': 'Ranged', 'id': 3, 'amount_of_legs': 4, 'localized_name': 'Bane', 'name': 'npc_dota_hero_bane', 'primary_attr': 'int', 'list_of_roles': ['Support', 'Disabler', 'Nuker', 'Durable']}\n",
      "{'attack_type': 'Melee', 'id': 4, 'amount_of_legs': 2, 'localized_name': 'Bloodseeker', 'name': 'npc_dota_hero_bloodseeker', 'primary_attr': 'agi', 'list_of_roles': ['Carry', 'Disabler', 'Jungler', 'Nuker', 'Initiator']}\n",
      "{'attack_type': 'Ranged', 'id': 5, 'amount_of_legs': 2, 'localized_name': 'Crystal Maiden', 'name': 'npc_dota_hero_crystal_maiden', 'primary_attr': 'int', 'list_of_roles': ['Support', 'Disabler', 'Nuker', 'Jungler']}\n",
      "{'attack_type': 'Ranged', 'id': 6, 'amount_of_legs': 2, 'localized_name': 'Drow Ranger', 'name': 'npc_dota_hero_drow_ranger', 'primary_attr': 'agi', 'list_of_roles': ['Carry', 'Disabler', 'Pusher']}\n",
      "{'attack_type': 'Melee', 'id': 7, 'amount_of_legs': 2, 'localized_name': 'Earthshaker', 'name': 'npc_dota_hero_earthshaker', 'primary_attr': 'str', 'list_of_roles': ['Support', 'Initiator', 'Disabler', 'Nuker']}\n",
      "{'attack_type': 'Melee', 'id': 8, 'amount_of_legs': 2, 'localized_name': 'Juggernaut', 'name': 'npc_dota_hero_juggernaut', 'primary_attr': 'agi', 'list_of_roles': ['Carry', 'Pusher', 'Escape']}\n",
      "{'attack_type': 'Ranged', 'id': 9, 'amount_of_legs': 2, 'localized_name': 'Mirana', 'name': 'npc_dota_hero_mirana', 'primary_attr': 'agi', 'list_of_roles': ['Carry', 'Support', 'Escape', 'Nuker', 'Disabler']}\n",
      "{'attack_type': 'Ranged', 'id': 10, 'amount_of_legs': 0, 'localized_name': 'Morphling', 'name': 'npc_dota_hero_morphling', 'primary_attr': 'agi', 'list_of_roles': ['Carry', 'Escape', 'Durable', 'Nuker', 'Disabler']}\n",
      "{'attack_type': 'Ranged', 'id': 11, 'amount_of_legs': 0, 'localized_name': 'Shadow Fiend', 'name': 'npc_dota_hero_nevermore', 'primary_attr': 'agi', 'list_of_roles': ['Carry', 'Nuker']}\n",
      "{'attack_type': 'Melee', 'id': 12, 'amount_of_legs': 2, 'localized_name': 'Phantom Lancer', 'name': 'npc_dota_hero_phantom_lancer', 'primary_attr': 'agi', 'list_of_roles': ['Carry', 'Escape', 'Pusher', 'Nuker']}\n",
      "{'attack_type': 'Ranged', 'id': 13, 'amount_of_legs': 2, 'localized_name': 'Puck', 'name': 'npc_dota_hero_puck', 'primary_attr': 'int', 'list_of_roles': ['Initiator', 'Disabler', 'Escape', 'Nuker']}\n",
      "{'attack_type': 'Melee', 'id': 14, 'amount_of_legs': 2, 'localized_name': 'Pudge', 'name': 'npc_dota_hero_pudge', 'primary_attr': 'str', 'list_of_roles': ['Disabler', 'Initiator', 'Durable', 'Nuker']}\n",
      "{'attack_type': 'Ranged', 'id': 15, 'amount_of_legs': 0, 'localized_name': 'Razor', 'name': 'npc_dota_hero_razor', 'primary_attr': 'agi', 'list_of_roles': ['Carry', 'Durable', 'Nuker', 'Pusher']}\n",
      "{'attack_type': 'Melee', 'id': 16, 'amount_of_legs': 6, 'localized_name': 'Sand King', 'name': 'npc_dota_hero_sand_king', 'primary_attr': 'str', 'list_of_roles': ['Initiator', 'Disabler', 'Support', 'Nuker', 'Escape', 'Jungler']}\n",
      "{'attack_type': 'Ranged', 'id': 17, 'amount_of_legs': 2, 'localized_name': 'Storm Spirit', 'name': 'npc_dota_hero_storm_spirit', 'primary_attr': 'int', 'list_of_roles': ['Carry', 'Escape', 'Nuker', 'Initiator', 'Disabler']}\n",
      "{'attack_type': 'Melee', 'id': 18, 'amount_of_legs': 2, 'localized_name': 'Sven', 'name': 'npc_dota_hero_sven', 'primary_attr': 'str', 'list_of_roles': ['Carry', 'Disabler', 'Initiator', 'Durable', 'Nuker']}\n",
      "{'attack_type': 'Melee', 'id': 19, 'amount_of_legs': 2, 'localized_name': 'Tiny', 'name': 'npc_dota_hero_tiny', 'primary_attr': 'str', 'list_of_roles': ['Carry', 'Nuker', 'Pusher', 'Initiator', 'Durable', 'Disabler']}\n",
      "{'attack_type': 'Ranged', 'id': 20, 'amount_of_legs': 2, 'localized_name': 'Vengeful Spirit', 'name': 'npc_dota_hero_vengefulspirit', 'primary_attr': 'agi', 'list_of_roles': ['Support', 'Initiator', 'Disabler', 'Nuker', 'Escape']}\n",
      "{'attack_type': 'Ranged', 'id': 21, 'amount_of_legs': 2, 'localized_name': 'Windranger', 'name': 'npc_dota_hero_windrunner', 'primary_attr': 'int', 'list_of_roles': ['Carry', 'Support', 'Disabler', 'Escape', 'Nuker']}\n",
      "{'attack_type': 'Ranged', 'id': 22, 'amount_of_legs': 2, 'localized_name': 'Zeus', 'name': 'npc_dota_hero_zuus', 'primary_attr': 'int', 'list_of_roles': ['Nuker']}\n",
      "{'attack_type': 'Melee', 'id': 23, 'amount_of_legs': 2, 'localized_name': 'Kunkka', 'name': 'npc_dota_hero_kunkka', 'primary_attr': 'str', 'list_of_roles': ['Carry', 'Support', 'Disabler', 'Initiator', 'Durable', 'Nuker']}\n",
      "{'attack_type': 'Ranged', 'id': 25, 'amount_of_legs': 2, 'localized_name': 'Lina', 'name': 'npc_dota_hero_lina', 'primary_attr': 'int', 'list_of_roles': ['Support', 'Carry', 'Nuker', 'Disabler']}\n",
      "{'attack_type': 'Ranged', 'id': 26, 'amount_of_legs': 2, 'localized_name': 'Lion', 'name': 'npc_dota_hero_lion', 'primary_attr': 'int', 'list_of_roles': ['Support', 'Disabler', 'Nuker', 'Initiator']}\n",
      "{'attack_type': 'Ranged', 'id': 27, 'amount_of_legs': 2, 'localized_name': 'Shadow Shaman', 'name': 'npc_dota_hero_shadow_shaman', 'primary_attr': 'int', 'list_of_roles': ['Support', 'Pusher', 'Disabler', 'Nuker', 'Initiator']}\n",
      "{'attack_type': 'Melee', 'id': 28, 'amount_of_legs': 0, 'localized_name': 'Slardar', 'name': 'npc_dota_hero_slardar', 'primary_attr': 'str', 'list_of_roles': ['Carry', 'Durable', 'Initiator', 'Disabler', 'Escape']}\n",
      "{'attack_type': 'Melee', 'id': 29, 'amount_of_legs': 2, 'localized_name': 'Tidehunter', 'name': 'npc_dota_hero_tidehunter', 'primary_attr': 'str', 'list_of_roles': ['Initiator', 'Durable', 'Disabler', 'Nuker']}\n",
      "{'attack_type': 'Ranged', 'id': 30, 'amount_of_legs': 2, 'localized_name': 'Witch Doctor', 'name': 'npc_dota_hero_witch_doctor', 'primary_attr': 'int', 'list_of_roles': ['Support', 'Nuker', 'Disabler']}\n",
      "{'attack_type': 'Ranged', 'id': 31, 'amount_of_legs': 2, 'localized_name': 'Lich', 'name': 'npc_dota_hero_lich', 'primary_attr': 'int', 'list_of_roles': ['Support', 'Nuker']}\n",
      "{'attack_type': 'Melee', 'id': 32, 'amount_of_legs': 2, 'localized_name': 'Riki', 'name': 'npc_dota_hero_riki', 'primary_attr': 'agi', 'list_of_roles': ['Carry', 'Escape', 'Disabler']}\n",
      "{'attack_type': 'Ranged', 'id': 33, 'amount_of_legs': 0, 'localized_name': 'Enigma', 'name': 'npc_dota_hero_enigma', 'primary_attr': 'int', 'list_of_roles': ['Disabler', 'Jungler', 'Initiator', 'Pusher']}\n",
      "{'attack_type': 'Ranged', 'id': 34, 'amount_of_legs': 2, 'localized_name': 'Tinker', 'name': 'npc_dota_hero_tinker', 'primary_attr': 'int', 'list_of_roles': ['Carry', 'Nuker', 'Pusher']}\n",
      "{'attack_type': 'Ranged', 'id': 35, 'amount_of_legs': 2, 'localized_name': 'Sniper', 'name': 'npc_dota_hero_sniper', 'primary_attr': 'agi', 'list_of_roles': ['Carry', 'Nuker']}\n",
      "{'attack_type': 'Ranged', 'id': 36, 'amount_of_legs': 2, 'localized_name': 'Necrophos', 'name': 'npc_dota_hero_necrolyte', 'primary_attr': 'int', 'list_of_roles': ['Carry', 'Nuker', 'Durable', 'Disabler']}\n",
      "{'attack_type': 'Ranged', 'id': 37, 'amount_of_legs': 2, 'localized_name': 'Warlock', 'name': 'npc_dota_hero_warlock', 'primary_attr': 'int', 'list_of_roles': ['Support', 'Initiator', 'Disabler']}\n",
      "{'attack_type': 'Melee', 'id': 38, 'amount_of_legs': 2, 'localized_name': 'Beastmaster', 'name': 'npc_dota_hero_beastmaster', 'primary_attr': 'str', 'list_of_roles': ['Initiator', 'Disabler', 'Durable', 'Nuker']}\n",
      "{'attack_type': 'Ranged', 'id': 39, 'amount_of_legs': 2, 'localized_name': 'Queen of Pain', 'name': 'npc_dota_hero_queenofpain', 'primary_attr': 'int', 'list_of_roles': ['Carry', 'Nuker', 'Escape']}\n",
      "{'attack_type': 'Ranged', 'id': 40, 'amount_of_legs': 0, 'localized_name': 'Venomancer', 'name': 'npc_dota_hero_venomancer', 'primary_attr': 'agi', 'list_of_roles': ['Support', 'Nuker', 'Initiator', 'Pusher', 'Disabler']}\n",
      "{'attack_type': 'Melee', 'id': 41, 'amount_of_legs': 2, 'localized_name': 'Faceless Void', 'name': 'npc_dota_hero_faceless_void', 'primary_attr': 'agi', 'list_of_roles': ['Carry', 'Initiator', 'Disabler', 'Escape', 'Durable']}\n",
      "{'attack_type': 'Melee', 'id': 42, 'amount_of_legs': 2, 'localized_name': 'Wraith King', 'name': 'npc_dota_hero_skeleton_king', 'primary_attr': 'str', 'list_of_roles': ['Carry', 'Support', 'Durable', 'Disabler', 'Initiator']}\n",
      "{'attack_type': 'Ranged', 'id': 43, 'amount_of_legs': 2, 'localized_name': 'Death Prophet', 'name': 'npc_dota_hero_death_prophet', 'primary_attr': 'int', 'list_of_roles': ['Carry', 'Pusher', 'Nuker', 'Disabler']}\n",
      "{'attack_type': 'Melee', 'id': 44, 'amount_of_legs': 2, 'localized_name': 'Phantom Assassin', 'name': 'npc_dota_hero_phantom_assassin', 'primary_attr': 'agi', 'list_of_roles': ['Carry', 'Escape']}\n",
      "{'attack_type': 'Ranged', 'id': 45, 'amount_of_legs': 2, 'localized_name': 'Pugna', 'name': 'npc_dota_hero_pugna', 'primary_attr': 'int', 'list_of_roles': ['Nuker', 'Pusher']}\n",
      "{'attack_type': 'Ranged', 'id': 46, 'amount_of_legs': 2, 'localized_name': 'Templar Assassin', 'name': 'npc_dota_hero_templar_assassin', 'primary_attr': 'agi', 'list_of_roles': ['Carry', 'Escape']}\n",
      "{'attack_type': 'Ranged', 'id': 47, 'amount_of_legs': 0, 'localized_name': 'Viper', 'name': 'npc_dota_hero_viper', 'primary_attr': 'agi', 'list_of_roles': ['Carry', 'Durable', 'Initiator', 'Disabler']}\n",
      "{'attack_type': 'Ranged', 'id': 48, 'amount_of_legs': 2, 'localized_name': 'Luna', 'name': 'npc_dota_hero_luna', 'primary_attr': 'agi', 'list_of_roles': ['Carry', 'Nuker', 'Pusher']}\n",
      "{'attack_type': 'Melee', 'id': 49, 'amount_of_legs': 2, 'localized_name': 'Dragon Knight', 'name': 'npc_dota_hero_dragon_knight', 'primary_attr': 'str', 'list_of_roles': ['Carry', 'Pusher', 'Durable', 'Disabler', 'Initiator', 'Nuker']}\n",
      "{'attack_type': 'Ranged', 'id': 50, 'amount_of_legs': 2, 'localized_name': 'Dazzle', 'name': 'npc_dota_hero_dazzle', 'primary_attr': 'int', 'list_of_roles': ['Support', 'Nuker', 'Disabler']}\n",
      "{'attack_type': 'Melee', 'id': 51, 'amount_of_legs': 2, 'localized_name': 'Clockwerk', 'name': 'npc_dota_hero_rattletrap', 'primary_attr': 'str', 'list_of_roles': ['Initiator', 'Disabler', 'Durable', 'Nuker']}\n",
      "{'attack_type': 'Ranged', 'id': 52, 'amount_of_legs': 4, 'localized_name': 'Leshrac', 'name': 'npc_dota_hero_leshrac', 'primary_attr': 'int', 'list_of_roles': ['Carry', 'Support', 'Nuker', 'Pusher', 'Disabler']}\n",
      "{'attack_type': 'Ranged', 'id': 53, 'amount_of_legs': 2, 'localized_name': \"Nature's Prophet\", 'name': 'npc_dota_hero_furion', 'primary_attr': 'int', 'list_of_roles': ['Carry', 'Jungler', 'Pusher', 'Escape', 'Nuker']}\n",
      "{'attack_type': 'Melee', 'id': 54, 'amount_of_legs': 2, 'localized_name': 'Lifestealer', 'name': 'npc_dota_hero_life_stealer', 'primary_attr': 'str', 'list_of_roles': ['Carry', 'Durable', 'Jungler', 'Escape', 'Disabler']}\n",
      "{'attack_type': 'Melee', 'id': 55, 'amount_of_legs': 2, 'localized_name': 'Dark Seer', 'name': 'npc_dota_hero_dark_seer', 'primary_attr': 'int', 'list_of_roles': ['Initiator', 'Jungler', 'Escape', 'Disabler']}\n",
      "{'attack_type': 'Ranged', 'id': 56, 'amount_of_legs': 2, 'localized_name': 'Clinkz', 'name': 'npc_dota_hero_clinkz', 'primary_attr': 'agi', 'list_of_roles': ['Carry', 'Escape', 'Pusher']}\n",
      "{'attack_type': 'Melee', 'id': 57, 'amount_of_legs': 2, 'localized_name': 'Omniknight', 'name': 'npc_dota_hero_omniknight', 'primary_attr': 'str', 'list_of_roles': ['Support', 'Durable', 'Nuker']}\n",
      "{'attack_type': 'Ranged', 'id': 58, 'amount_of_legs': 4, 'localized_name': 'Enchantress', 'name': 'npc_dota_hero_enchantress', 'primary_attr': 'int', 'list_of_roles': ['Support', 'Jungler', 'Pusher', 'Durable', 'Disabler']}\n",
      "{'attack_type': 'Ranged', 'id': 59, 'amount_of_legs': 2, 'localized_name': 'Huskar', 'name': 'npc_dota_hero_huskar', 'primary_attr': 'str', 'list_of_roles': ['Carry', 'Durable', 'Initiator']}\n",
      "{'attack_type': 'Melee', 'id': 60, 'amount_of_legs': 2, 'localized_name': 'Night Stalker', 'name': 'npc_dota_hero_night_stalker', 'primary_attr': 'str', 'list_of_roles': ['Carry', 'Initiator', 'Durable', 'Disabler', 'Nuker']}\n",
      "{'attack_type': 'Melee', 'id': 61, 'amount_of_legs': 8, 'localized_name': 'Broodmother', 'name': 'npc_dota_hero_broodmother', 'primary_attr': 'agi', 'list_of_roles': ['Carry', 'Pusher', 'Escape', 'Nuker']}\n",
      "{'attack_type': 'Melee', 'id': 62, 'amount_of_legs': 2, 'localized_name': 'Bounty Hunter', 'name': 'npc_dota_hero_bounty_hunter', 'primary_attr': 'agi', 'list_of_roles': ['Escape', 'Nuker']}\n",
      "{'attack_type': 'Ranged', 'id': 63, 'amount_of_legs': 4, 'localized_name': 'Weaver', 'name': 'npc_dota_hero_weaver', 'primary_attr': 'agi', 'list_of_roles': ['Carry', 'Escape']}\n",
      "{'attack_type': 'Ranged', 'id': 64, 'amount_of_legs': 2, 'localized_name': 'Jakiro', 'name': 'npc_dota_hero_jakiro', 'primary_attr': 'int', 'list_of_roles': ['Support', 'Nuker', 'Pusher', 'Disabler']}\n",
      "{'attack_type': 'Ranged', 'id': 65, 'amount_of_legs': 2, 'localized_name': 'Batrider', 'name': 'npc_dota_hero_batrider', 'primary_attr': 'int', 'list_of_roles': ['Initiator', 'Jungler', 'Disabler', 'Escape']}\n",
      "{'attack_type': 'Ranged', 'id': 66, 'amount_of_legs': 2, 'localized_name': 'Chen', 'name': 'npc_dota_hero_chen', 'primary_attr': 'int', 'list_of_roles': ['Support', 'Jungler', 'Pusher']}\n",
      "{'attack_type': 'Melee', 'id': 67, 'amount_of_legs': 0, 'localized_name': 'Spectre', 'name': 'npc_dota_hero_spectre', 'primary_attr': 'agi', 'list_of_roles': ['Carry', 'Durable', 'Escape']}\n",
      "{'attack_type': 'Ranged', 'id': 68, 'amount_of_legs': 2, 'localized_name': 'Ancient Apparition', 'name': 'npc_dota_hero_ancient_apparition', 'primary_attr': 'int', 'list_of_roles': ['Support', 'Disabler', 'Nuker']}\n",
      "{'attack_type': 'Melee', 'id': 69, 'amount_of_legs': 2, 'localized_name': 'Doom', 'name': 'npc_dota_hero_doom_bringer', 'primary_attr': 'str', 'list_of_roles': ['Carry', 'Disabler', 'Initiator', 'Durable', 'Nuker']}\n",
      "{'attack_type': 'Melee', 'id': 70, 'amount_of_legs': 2, 'localized_name': 'Ursa', 'name': 'npc_dota_hero_ursa', 'primary_attr': 'agi', 'list_of_roles': ['Carry', 'Jungler', 'Durable', 'Disabler']}\n",
      "{'attack_type': 'Melee', 'id': 71, 'amount_of_legs': 2, 'localized_name': 'Spirit Breaker', 'name': 'npc_dota_hero_spirit_breaker', 'primary_attr': 'str', 'list_of_roles': ['Carry', 'Initiator', 'Disabler', 'Durable', 'Escape']}\n",
      "{'attack_type': 'Ranged', 'id': 72, 'amount_of_legs': 2, 'localized_name': 'Gyrocopter', 'name': 'npc_dota_hero_gyrocopter', 'primary_attr': 'agi', 'list_of_roles': ['Carry', 'Nuker', 'Disabler']}\n",
      "{'attack_type': 'Melee', 'id': 73, 'amount_of_legs': 2, 'localized_name': 'Alchemist', 'name': 'npc_dota_hero_alchemist', 'primary_attr': 'str', 'list_of_roles': ['Carry', 'Support', 'Durable', 'Disabler', 'Initiator', 'Nuker']}\n",
      "{'attack_type': 'Ranged', 'id': 74, 'amount_of_legs': 2, 'localized_name': 'Invoker', 'name': 'npc_dota_hero_invoker', 'primary_attr': 'int', 'list_of_roles': ['Carry', 'Nuker', 'Disabler', 'Escape', 'Pusher']}\n",
      "{'attack_type': 'Ranged', 'id': 75, 'amount_of_legs': 2, 'localized_name': 'Silencer', 'name': 'npc_dota_hero_silencer', 'primary_attr': 'int', 'list_of_roles': ['Carry', 'Support', 'Disabler', 'Initiator', 'Nuker']}\n",
      "{'attack_type': 'Ranged', 'id': 76, 'amount_of_legs': 4, 'localized_name': 'Outworld Devourer', 'name': 'npc_dota_hero_obsidian_destroyer', 'primary_attr': 'int', 'list_of_roles': ['Carry', 'Nuker', 'Disabler']}\n",
      "{'attack_type': 'Melee', 'id': 77, 'amount_of_legs': 2, 'localized_name': 'Lycan', 'name': 'npc_dota_hero_lycan', 'primary_attr': 'str', 'list_of_roles': ['Carry', 'Pusher', 'Jungler', 'Durable', 'Escape']}\n",
      "{'attack_type': 'Melee', 'id': 78, 'amount_of_legs': 2, 'localized_name': 'Brewmaster', 'name': 'npc_dota_hero_brewmaster', 'primary_attr': 'str', 'list_of_roles': ['Carry', 'Initiator', 'Durable', 'Disabler', 'Nuker']}\n",
      "{'attack_type': 'Ranged', 'id': 79, 'amount_of_legs': 2, 'localized_name': 'Shadow Demon', 'name': 'npc_dota_hero_shadow_demon', 'primary_attr': 'int', 'list_of_roles': ['Support', 'Disabler', 'Initiator', 'Nuker']}\n",
      "{'attack_type': 'Ranged', 'id': 80, 'amount_of_legs': 2, 'localized_name': 'Lone Druid', 'name': 'npc_dota_hero_lone_druid', 'primary_attr': 'agi', 'list_of_roles': ['Carry', 'Pusher', 'Jungler', 'Durable']}\n",
      "{'attack_type': 'Melee', 'id': 81, 'amount_of_legs': 2, 'localized_name': 'Chaos Knight', 'name': 'npc_dota_hero_chaos_knight', 'primary_attr': 'str', 'list_of_roles': ['Carry', 'Disabler', 'Durable', 'Pusher', 'Initiator']}\n",
      "{'attack_type': 'Melee', 'id': 82, 'amount_of_legs': 2, 'localized_name': 'Meepo', 'name': 'npc_dota_hero_meepo', 'primary_attr': 'agi', 'list_of_roles': ['Carry', 'Escape', 'Nuker', 'Disabler', 'Initiator', 'Pusher']}\n",
      "{'attack_type': 'Melee', 'id': 83, 'amount_of_legs': 2, 'localized_name': 'Treant Protector', 'name': 'npc_dota_hero_treant', 'primary_attr': 'str', 'list_of_roles': ['Support', 'Initiator', 'Durable', 'Disabler', 'Escape']}\n",
      "{'attack_type': 'Melee', 'id': 84, 'amount_of_legs': 2, 'localized_name': 'Ogre Magi', 'name': 'npc_dota_hero_ogre_magi', 'primary_attr': 'int', 'list_of_roles': ['Support', 'Nuker', 'Disabler', 'Durable', 'Initiator']}\n",
      "{'attack_type': 'Melee', 'id': 85, 'amount_of_legs': 2, 'localized_name': 'Undying', 'name': 'npc_dota_hero_undying', 'primary_attr': 'str', 'list_of_roles': ['Support', 'Durable', 'Disabler', 'Nuker']}\n",
      "{'attack_type': 'Ranged', 'id': 86, 'amount_of_legs': 2, 'localized_name': 'Rubick', 'name': 'npc_dota_hero_rubick', 'primary_attr': 'int', 'list_of_roles': ['Support', 'Disabler', 'Nuker']}\n",
      "{'attack_type': 'Ranged', 'id': 87, 'amount_of_legs': 2, 'localized_name': 'Disruptor', 'name': 'npc_dota_hero_disruptor', 'primary_attr': 'int', 'list_of_roles': ['Support', 'Disabler', 'Nuker', 'Initiator']}\n",
      "{'attack_type': 'Melee', 'id': 88, 'amount_of_legs': 6, 'localized_name': 'Nyx Assassin', 'name': 'npc_dota_hero_nyx_assassin', 'primary_attr': 'agi', 'list_of_roles': ['Disabler', 'Nuker', 'Initiator', 'Escape']}\n",
      "{'attack_type': 'Melee', 'id': 89, 'amount_of_legs': 0, 'localized_name': 'Naga Siren', 'name': 'npc_dota_hero_naga_siren', 'primary_attr': 'agi', 'list_of_roles': ['Carry', 'Support', 'Pusher', 'Disabler', 'Initiator', 'Escape']}\n",
      "{'attack_type': 'Ranged', 'id': 90, 'amount_of_legs': 2, 'localized_name': 'Keeper of the Light', 'name': 'npc_dota_hero_keeper_of_the_light', 'primary_attr': 'int', 'list_of_roles': ['Support', 'Nuker', 'Disabler', 'Jungler']}\n",
      "{'attack_type': 'Ranged', 'id': 91, 'amount_of_legs': 0, 'localized_name': 'Io', 'name': 'npc_dota_hero_wisp', 'primary_attr': 'str', 'list_of_roles': ['Support', 'Escape', 'Nuker']}\n",
      "{'attack_type': 'Ranged', 'id': 92, 'amount_of_legs': 2, 'localized_name': 'Visage', 'name': 'npc_dota_hero_visage', 'primary_attr': 'int', 'list_of_roles': ['Support', 'Nuker', 'Durable', 'Disabler', 'Pusher']}\n",
      "{'attack_type': 'Melee', 'id': 93, 'amount_of_legs': 2, 'localized_name': 'Slark', 'name': 'npc_dota_hero_slark', 'primary_attr': 'agi', 'list_of_roles': ['Carry', 'Escape', 'Disabler', 'Nuker']}\n",
      "{'attack_type': 'Ranged', 'id': 94, 'amount_of_legs': 0, 'localized_name': 'Medusa', 'name': 'npc_dota_hero_medusa', 'primary_attr': 'agi', 'list_of_roles': ['Carry', 'Disabler', 'Durable']}\n",
      "{'attack_type': 'Ranged', 'id': 95, 'amount_of_legs': 2, 'localized_name': 'Troll Warlord', 'name': 'npc_dota_hero_troll_warlord', 'primary_attr': 'agi', 'list_of_roles': ['Carry', 'Pusher', 'Disabler', 'Durable']}\n",
      "{'attack_type': 'Melee', 'id': 96, 'amount_of_legs': 4, 'localized_name': 'Centaur Warrunner', 'name': 'npc_dota_hero_centaur', 'primary_attr': 'str', 'list_of_roles': ['Durable', 'Initiator', 'Disabler', 'Nuker', 'Escape']}\n",
      "{'attack_type': 'Melee', 'id': 97, 'amount_of_legs': 4, 'localized_name': 'Magnus', 'name': 'npc_dota_hero_magnataur', 'primary_attr': 'str', 'list_of_roles': ['Initiator', 'Disabler', 'Nuker', 'Escape']}\n",
      "{'attack_type': 'Melee', 'id': 98, 'amount_of_legs': 2, 'localized_name': 'Timbersaw', 'name': 'npc_dota_hero_shredder', 'primary_attr': 'str', 'list_of_roles': ['Nuker', 'Durable', 'Escape']}\n",
      "{'attack_type': 'Melee', 'id': 99, 'amount_of_legs': 2, 'localized_name': 'Bristleback', 'name': 'npc_dota_hero_bristleback', 'primary_attr': 'str', 'list_of_roles': ['Carry', 'Durable', 'Initiator', 'Nuker']}\n",
      "{'attack_type': 'Melee', 'id': 100, 'amount_of_legs': 2, 'localized_name': 'Tusk', 'name': 'npc_dota_hero_tusk', 'primary_attr': 'str', 'list_of_roles': ['Initiator', 'Disabler', 'Nuker']}\n",
      "{'attack_type': 'Ranged', 'id': 101, 'amount_of_legs': 2, 'localized_name': 'Skywrath Mage', 'name': 'npc_dota_hero_skywrath_mage', 'primary_attr': 'int', 'list_of_roles': ['Support', 'Nuker', 'Disabler']}\n",
      "{'attack_type': 'Melee', 'id': 102, 'amount_of_legs': 2, 'localized_name': 'Abaddon', 'name': 'npc_dota_hero_abaddon', 'primary_attr': 'str', 'list_of_roles': ['Support', 'Carry', 'Durable']}\n",
      "{'attack_type': 'Melee', 'id': 103, 'amount_of_legs': 2, 'localized_name': 'Elder Titan', 'name': 'npc_dota_hero_elder_titan', 'primary_attr': 'str', 'list_of_roles': ['Initiator', 'Disabler', 'Nuker', 'Durable']}\n",
      "{'attack_type': 'Melee', 'id': 104, 'amount_of_legs': 2, 'localized_name': 'Legion Commander', 'name': 'npc_dota_hero_legion_commander', 'primary_attr': 'str', 'list_of_roles': ['Carry', 'Disabler', 'Initiator', 'Durable', 'Nuker']}\n",
      "{'attack_type': 'Ranged', 'id': 105, 'amount_of_legs': 6, 'localized_name': 'Techies', 'name': 'npc_dota_hero_techies', 'primary_attr': 'int', 'list_of_roles': ['Nuker', 'Disabler']}\n",
      "{'attack_type': 'Melee', 'id': 106, 'amount_of_legs': 2, 'localized_name': 'Ember Spirit', 'name': 'npc_dota_hero_ember_spirit', 'primary_attr': 'agi', 'list_of_roles': ['Carry', 'Escape', 'Nuker', 'Disabler', 'Initiator']}\n",
      "{'attack_type': 'Melee', 'id': 107, 'amount_of_legs': 2, 'localized_name': 'Earth Spirit', 'name': 'npc_dota_hero_earth_spirit', 'primary_attr': 'str', 'list_of_roles': ['Nuker', 'Escape', 'Disabler', 'Initiator', 'Durable']}\n",
      "{'attack_type': 'Melee', 'id': 108, 'amount_of_legs': 2, 'localized_name': 'Underlord', 'name': 'npc_dota_hero_abyssal_underlord', 'primary_attr': 'str', 'list_of_roles': ['Support', 'Nuker', 'Disabler', 'Durable', 'Escape']}\n",
      "{'attack_type': 'Melee', 'id': 109, 'amount_of_legs': 2, 'localized_name': 'Terrorblade', 'name': 'npc_dota_hero_terrorblade', 'primary_attr': 'agi', 'list_of_roles': ['Carry', 'Pusher', 'Nuker']}\n",
      "{'attack_type': 'Ranged', 'id': 110, 'amount_of_legs': 2, 'localized_name': 'Phoenix', 'name': 'npc_dota_hero_phoenix', 'primary_attr': 'str', 'list_of_roles': ['Support', 'Nuker', 'Initiator', 'Escape', 'Disabler']}\n",
      "{'attack_type': 'Ranged', 'id': 111, 'amount_of_legs': 2, 'localized_name': 'Oracle', 'name': 'npc_dota_hero_oracle', 'primary_attr': 'int', 'list_of_roles': ['Support', 'Nuker', 'Disabler', 'Escape']}\n",
      "{'attack_type': 'Ranged', 'id': 112, 'amount_of_legs': 2, 'localized_name': 'Winter Wyvern', 'name': 'npc_dota_hero_winter_wyvern', 'primary_attr': 'int', 'list_of_roles': ['Support', 'Disabler', 'Nuker']}\n",
      "{'attack_type': 'Ranged', 'id': 113, 'amount_of_legs': 2, 'localized_name': 'Arc Warden', 'name': 'npc_dota_hero_arc_warden', 'primary_attr': 'agi', 'list_of_roles': ['Carry', 'Escape', 'Nuker']}\n",
      "{'attack_type': 'Melee', 'id': 114, 'amount_of_legs': 2, 'localized_name': 'Monkey King', 'name': 'npc_dota_hero_monkey_king', 'primary_attr': 'agi', 'list_of_roles': ['Carry', 'Escape', 'Disabler', 'Initiator']}\n",
      "{'attack_type': 'Ranged', 'id': 119, 'amount_of_legs': 2, 'localized_name': 'Dark Willow', 'name': 'npc_dota_hero_dark_willow', 'primary_attr': 'int', 'list_of_roles': ['Support', 'Nuker', 'Disabler', 'Escape']}\n",
      "{'attack_type': 'Melee', 'id': 120, 'amount_of_legs': 2, 'localized_name': 'Pangolier', 'name': 'npc_dota_hero_pangolier', 'primary_attr': 'agi', 'list_of_roles': ['Carry', 'Nuker', 'Disabler', 'Durable', 'Escape', 'Initiator']}\n",
      "{'attack_type': 'Ranged', 'id': 121, 'amount_of_legs': 2, 'localized_name': 'Grimstroke', 'name': 'npc_dota_hero_grimstroke', 'primary_attr': 'int', 'list_of_roles': ['Support', 'Nuker', 'Disabler', 'Escape']}\n",
      "{'attack_type': 'Melee', 'id': 129, 'amount_of_legs': 2, 'localized_name': 'Mars', 'name': 'npc_dota_hero_mars', 'primary_attr': 'str', 'list_of_roles': ['Carry', 'Initiator', 'Disabler', 'Durable']}\n"
     ]
    }
   ],
   "source": [
    "file = open(\"data/dota_hero_stats.csv\", 'r')\n",
    "parsed_csv = parse_csv(file.read())\n",
    "for character in parsed_csv:\n",
    "    print(character)"
   ]
  },
  {
   "cell_type": "markdown",
   "id": "9f414429",
   "metadata": {},
   "source": [
    "Создадим функцию для подсчёта максимального числа ног"
   ]
  },
  {
   "cell_type": "code",
   "execution_count": 5,
   "id": "70dcbf82",
   "metadata": {},
   "outputs": [],
   "source": [
    "def find_biggest_leg_amount(hero_info_list):\n",
    "    max_leg = 0\n",
    "    max_leg_name = \"NONE\"\n",
    "    for character in hero_info_list:\n",
    "        if character['amount_of_legs'] > max_leg:\n",
    "            max_leg_name = character['localized_name']\n",
    "            max_leg = character['amount_of_legs']\n",
    "    return max_leg_name, max_leg"
   ]
  },
  {
   "cell_type": "markdown",
   "id": "c675b0b7",
   "metadata": {},
   "source": [
    "Найдем Имя персонажа с максимальным числом ног и их количество"
   ]
  },
  {
   "cell_type": "code",
   "execution_count": 6,
   "id": "7782a20d",
   "metadata": {},
   "outputs": [
    {
     "name": "stdout",
     "output_type": "stream",
     "text": [
      "('Broodmother', 8)\n"
     ]
    }
   ],
   "source": [
    "print(find_biggest_leg_amount(parsed_csv))"
   ]
  }
 ],
 "metadata": {
  "kernelspec": {
   "display_name": "Python 3 (ipykernel)",
   "language": "python",
   "name": "python3"
  },
  "language_info": {
   "codemirror_mode": {
    "name": "ipython",
    "version": 3
   },
   "file_extension": ".py",
   "mimetype": "text/x-python",
   "name": "python",
   "nbconvert_exporter": "python",
   "pygments_lexer": "ipython3",
   "version": "3.10.9"
  }
 },
 "nbformat": 4,
 "nbformat_minor": 5
}
